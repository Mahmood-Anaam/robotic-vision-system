{
 "cells": [
  {
   "cell_type": "markdown",
   "id": "6761e38b-2c1b-426c-9be6-0971c57492bf",
   "metadata": {},
   "source": [
    "# Project : Evaluation Support Script\n",
    "\n",
    "This file will contain some supporting functions that will help you evaluate your model. It will show how the validation_grasp_labels.json and validation_object_labels.json can be read in and grasps and object bounding boxes can be drawn on images. It will also show how to convert a grasp in (u, v, width, angle) format into a grasp rectangle prediction.\n",
    "\n",
    "## Reading in ground-truth labels and visualising on images"
   ]
  },
  {
   "cell_type": "code",
   "execution_count": 11,
   "id": "e71a7d8e-0a00-4240-9ae8-26b08eeb7336",
   "metadata": {},
   "outputs": [],
   "source": [
    "import json\n",
    "\n",
    "#read in test information\n",
    "with open('validation_prompts.json', 'r') as f:\n",
    "    val_prompts = json.load(f)\n",
    "    \n",
    "#read in gt grasp labels\n",
    "with open('validation_grasp_labels.json', 'r') as f:\n",
    "    gt_grasps = json.load(f)\n",
    "\n",
    "#read in gt object labels\n",
    "with open('validation_object_labels.json', 'r') as f:\n",
    "    gt_objects = json.load(f)"
   ]
  },
  {
   "cell_type": "code",
   "execution_count": 12,
   "id": "efdb7eb5",
   "metadata": {},
   "outputs": [
    {
     "name": "stdout",
     "output_type": "stream",
     "text": [
      "['Graspnet_subset/validation_scenes/scene_0050/rgb/0003.png', 'banana']\n"
     ]
    }
   ],
   "source": [
    "print(val_prompts['test_1'])"
   ]
  },
  {
   "cell_type": "markdown",
   "id": "b4da3334",
   "metadata": {},
   "source": [
    "**Graspnet_subset/validation_scenes/scene_0050/rgb/0003.png <> Graspnet_subset/validation_scenes/scene_0050/depth/0003.png**"
   ]
  },
  {
   "cell_type": "code",
   "execution_count": 13,
   "id": "ab23cc77",
   "metadata": {},
   "outputs": [
    {
     "name": "stdout",
     "output_type": "stream",
     "text": [
      "[[[393.3008728027344, 153.67750549316406], [457.5617370605469, 130.18824768066406], [468.8244323730469, 161.0001678466797], [404.5635681152344, 184.4894256591797]], [[388.8248596191406, 144.7439422607422], [470.3065490722656, 137.27452087402344], [473.3004455566406, 169.93373107910156], [391.8187561035156, 177.4031524658203]], [[385.5792541503906, 132.98062133789062], [482.0324401855469, 149.33004760742188], [476.5460510253906, 181.69705200195312], [380.0928649902344, 165.34762573242188]]]\n"
     ]
    }
   ],
   "source": [
    "print(gt_grasps['test_1'][:3])"
   ]
  },
  {
   "cell_type": "code",
   "execution_count": 14,
   "id": "3dcba2e8",
   "metadata": {},
   "outputs": [
    {
     "name": "stdout",
     "output_type": "stream",
     "text": [
      "['Graspnet_subset/validation_scenes/scene_0050/rgb/0003.png', 'banana', [376, 127, 501, 395]]\n"
     ]
    }
   ],
   "source": [
    "print(gt_objects['test_1'])"
   ]
  },
  {
   "cell_type": "code",
   "execution_count": 15,
   "id": "088c2d50",
   "metadata": {},
   "outputs": [
    {
     "data": {
      "text/plain": [
       "[376, 127, 501, 395]"
      ]
     },
     "execution_count": 15,
     "metadata": {},
     "output_type": "execute_result"
    }
   ],
   "source": [
    "_, _, bbox = gt_objects['test_1']\n",
    "bbox"
   ]
  },
  {
   "cell_type": "code",
   "execution_count": 17,
   "id": "2cbd05e1-b6a0-4694-9b74-e1462723903e",
   "metadata": {},
   "outputs": [
    {
     "name": "stdout",
     "output_type": "stream",
     "text": [
      "Testing Graspnet_subset/validation_scenes/scene_0050/rgb/0003.png for banana\n",
      "GT bbox is [376, 127, 501, 395]\n",
      "2042 possible grasps exist.\n"
     ]
    }
   ],
   "source": [
    "test = 'test_1'\n",
    "\n",
    "file_name, object = val_prompts[test]\n",
    "_, _, bbox = gt_objects[test]\n",
    "grasps = gt_grasps[test]\n",
    "\n",
    "print(f'Testing {file_name} for {object}')\n",
    "print(f'GT bbox is {bbox}')\n",
    "print(f'{len(grasps)} possible grasps exist.')"
   ]
  },
  {
   "cell_type": "code",
   "execution_count": null,
   "id": "9ae1ec2b-48c7-4467-837f-f2865450c899",
   "metadata": {},
   "outputs": [],
   "source": [
    "import matplotlib.patches as patches\n",
    "import cv2\n",
    "import matplotlib.pyplot as plt\n",
    "\n",
    "def visualise_image(file_name, polygons = [], caption = ''):\n",
    "    # This function will visualise an image and a set of provided polygons on the image in red. Image title will be set to caption.\n",
    "    # Polygons must be described by the points to draw between -- for our application, input the 4 corners of a box.\n",
    "\n",
    "    #load image and convert to RGB\n",
    "    im_rgb = cv2.imread(file_name)\n",
    "    im_rgb = cv2.cvtColor(im_rgb, cv2.COLOR_BGR2RGB)\n",
    "    \n",
    "    #create a plot and draw the image\n",
    "    fig, ax = plt.subplots()\n",
    "    ax.imshow(im_rgb)\n",
    "\n",
    "    for p in polygons:\n",
    "        #draw each polygon in the list with a red edge and linewidth 2\n",
    "        patch = patches.Polygon(p, closed=True, edgecolor='red', linewidth=2, fill=None)\n",
    "        ax.add_patch(patch)\n",
    "\n",
    "    ax.set_title(caption)\n",
    "        \n",
    "    plt.show()\n",
    "\n",
    "#draw the raw image\n",
    "visualise_image(file_name, caption = 'Raw image')\n",
    "\n",
    "#draw the bbox on the image. It must be converted from current format [xmin, ymin, xmax, ymax] into a list with all 4 corner coordinates.\n",
    "polygon_bbox = [[bbox[0], bbox[1]], [bbox[2], bbox[1]], [bbox[2], bbox[3]], [bbox[0], bbox[3]]]\n",
    "visualise_image(file_name, [polygon_bbox], caption = f'Bbox label for {object}')\n",
    "\n",
    "#draw the grasps on the image\n",
    "visualise_image(file_name, grasps, caption = f'Grasp labels for {object}')"
   ]
  },
  {
   "cell_type": "markdown",
   "id": "8e6cf87d-452a-4597-ba3e-998e5411b641",
   "metadata": {},
   "source": [
    "## Convert a grasp in (u, v, width, angle) format into a grasp rectangle prediction."
   ]
  },
  {
   "cell_type": "code",
   "execution_count": null,
   "id": "b15c821a-82c1-4eec-aa96-d13d9c1106ea",
   "metadata": {},
   "outputs": [],
   "source": [
    "import math \n",
    "\n",
    "def get_rotated_rectangle_corners(center_x, center_y, width, angle_rad):\n",
    "    # Given a grasp prediction in the format required by the assignment, this function will convert it into \n",
    "    # 4 rotated rectangle corners that can be drawn onto an image and visualised. Or compared with a GT grasp\n",
    "    # for performance evaluation.\n",
    "    \n",
    "    #height is fixed based on the gripper \n",
    "    height = 30\n",
    "    \n",
    "    # Extract center coordinates\n",
    "    cx, cy = center_x, center_y\n",
    "\n",
    "    # Calculate half dimensions\n",
    "    half_width = width / 2\n",
    "    half_height = height / 2\n",
    "    \n",
    "    # Calculate the original corner positions relative to the center\n",
    "    corners = [\n",
    "        (-half_width, -half_height),  # Bottom-left\n",
    "        (half_width, -half_height),   # Bottom-right\n",
    "        (half_width, half_height),    # Top-right\n",
    "        (-half_width, half_height)    # Top-left\n",
    "    ]\n",
    "    \n",
    "    # Apply rotation and translation to each corner\n",
    "    rotated_corners = []\n",
    "    for x, y in corners:\n",
    "        # Calculate rotated positions\n",
    "        rotated_x = cx + (x * math.cos(angle_rad)) - (y * math.sin(angle_rad))\n",
    "        rotated_y = cy + (x * math.sin(angle_rad)) + (y * math.cos(angle_rad))\n",
    "        rotated_corners.append((rotated_x, rotated_y))\n",
    "    \n",
    "    return rotated_corners\n",
    "\n",
    "\n",
    "u = 480\n",
    "v = 250\n",
    "width = 120\n",
    "angle = 0.5\n",
    "\n",
    "predicted_grasp_rect = get_rotated_rectangle_corners(u, v, width, angle)\n",
    "#draw the predicted grasp on the image.\n",
    "polygon_bbox = [[bbox[0], bbox[1]], [bbox[2], bbox[1]], [bbox[2], bbox[3]], [bbox[0], bbox[3]]]\n",
    "visualise_image(file_name, [predicted_grasp_rect], caption = f'Predicted grasp for {object}')\n",
    "\n"
   ]
  },
  {
   "cell_type": "markdown",
   "id": "f48c4a39",
   "metadata": {},
   "source": [
    "---"
   ]
  },
  {
   "cell_type": "code",
   "execution_count": null,
   "id": "706929b8-f237-4892-9d0c-ca584e19b006",
   "metadata": {},
   "outputs": [],
   "source": []
  }
 ],
 "metadata": {
  "kernelspec": {
   "display_name": "ML",
   "language": "python",
   "name": "python3"
  },
  "language_info": {
   "codemirror_mode": {
    "name": "ipython",
    "version": 3
   },
   "file_extension": ".py",
   "mimetype": "text/x-python",
   "name": "python",
   "nbconvert_exporter": "python",
   "pygments_lexer": "ipython3",
   "version": "3.12.5"
  }
 },
 "nbformat": 4,
 "nbformat_minor": 5
}
